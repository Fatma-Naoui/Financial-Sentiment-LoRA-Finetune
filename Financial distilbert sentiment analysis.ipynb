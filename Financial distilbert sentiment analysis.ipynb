{
 "cells": [
  {
   "cell_type": "code",
   "execution_count": null,
   "metadata": {},
   "outputs": [],
   "source": [
    "\n",
    "import os\n",
    "import json\n",
    "import re\n",
    "import math\n",
    "from collections import Counter\n",
    "\n",
    "# Data handling\n",
    "import pandas as pd\n",
    "import numpy as np\n",
    "from sklearn.model_selection import train_test_split\n",
    "from sklearn.metrics import (\n",
    "    accuracy_score,\n",
    "    f1_score,\n",
    "    classification_report,\n",
    "    confusion_matrix,\n",
    "    precision_recall_fscore_support\n",
    ")\n",
    "\n",
    "# Visualization\n",
    "import matplotlib.pyplot as plt\n",
    "import seaborn as sns\n",
    "\n",
    "# Hugging Face & Training\n",
    "import torch\n",
    "from torch.utils.data import Dataset\n",
    "from transformers import (\n",
    "    DistilBertTokenizer,\n",
    "    DistilBertForSequenceClassification,\n",
    "    Trainer,\n",
    "    TrainingArguments\n",
    ")\n",
    "import evaluate\n",
    "\n",
    "# PEFT (LoRA)\n",
    "from peft import LoraConfig, get_peft_model, TaskType\n",
    "\n",
    "# Datasets library (if needed for huggingface Dataset)\n",
    "from datasets import Dataset\n"
   ]
  },
  {
   "cell_type": "code",
   "execution_count": 2,
   "metadata": {},
   "outputs": [
    {
     "name": "stdout",
     "output_type": "stream",
     "text": [
      "Using device: cuda\n"
     ]
    }
   ],
   "source": [
    "# Check for GPU availability\n",
    "device = torch.device('cuda' if torch.cuda.is_available() else 'cpu')\n",
    "print(f\"Using device: {device}\")\n",
    "\n"
   ]
  },
  {
   "cell_type": "code",
   "execution_count": null,
   "metadata": {},
   "outputs": [],
   "source": [
    "\n",
    "# Read the sentences file (correct path with subdirectory)\n",
    "with open('financial_phrasebank/data/FinancialPhraseBank-v1.0/Sentences_AllAgree.txt', 'r', encoding='latin-1') as f:\n",
    "    lines = f.readlines()\n",
    "\n",
    "# Parse the data (format: sentence@label)\n",
    "sentences = []\n",
    "labels = []\n",
    "\n",
    "for line in lines:\n",
    "    if '@' in line:\n",
    "        parts = line.strip().rsplit('@', 1)\n",
    "        if len(parts) == 2:\n",
    "            sentences.append(parts[0])\n",
    "            labels.append(parts[1].strip())\n",
    "\n",
    "# Create dataframe\n",
    "df = pd.DataFrame({'sentence': sentences, 'label': labels})"
   ]
  },
  {
   "cell_type": "code",
   "execution_count": 17,
   "metadata": {},
   "outputs": [
    {
     "name": "stdout",
     "output_type": "stream",
     "text": [
      "======================================================================\n",
      "DATASET OVERVIEW\n",
      "======================================================================\n",
      "\n",
      "Dataset shape: (2264, 2)\n",
      "Total articles: 2264\n",
      "\n",
      "Column names: ['sentence', 'label']\n"
     ]
    }
   ],
   "source": [
    "print(\"=\"*70)\n",
    "print(\"DATASET OVERVIEW\")\n",
    "print(\"=\"*70)\n",
    "print(f\"\\nDataset shape: {df.shape}\")\n",
    "print(f\"Total articles: {len(df)}\")\n",
    "print(f\"\\nColumn names: {df.columns.tolist()}\")\n"
   ]
  },
  {
   "cell_type": "code",
   "execution_count": 28,
   "metadata": {},
   "outputs": [
    {
     "name": "stdout",
     "output_type": "stream",
     "text": [
      "<class 'pandas.core.frame.DataFrame'>\n",
      "Index: 2259 entries, 0 to 2263\n",
      "Data columns (total 2 columns):\n",
      " #   Column    Non-Null Count  Dtype \n",
      "---  ------    --------------  ----- \n",
      " 0   sentence  2259 non-null   object\n",
      " 1   label     2259 non-null   object\n",
      "dtypes: object(2)\n",
      "memory usage: 52.9+ KB\n"
     ]
    }
   ],
   "source": [
    "df.info()"
   ]
  },
  {
   "cell_type": "code",
   "execution_count": 19,
   "metadata": {},
   "outputs": [
    {
     "name": "stdout",
     "output_type": "stream",
     "text": [
      "\n",
      "======================================================================\n",
      "MISSING VALUES\n",
      "======================================================================\n",
      "sentence    0\n",
      "label       0\n",
      "dtype: int64\n",
      "\n",
      "Total missing: 0\n"
     ]
    }
   ],
   "source": [
    "print(\"\\n\" + \"=\"*70)\n",
    "print(\"MISSING VALUES\")\n",
    "print(\"=\"*70)\n",
    "print(df.isnull().sum())\n",
    "print(f\"\\nTotal missing: {df.isnull().sum().sum()}\")"
   ]
  },
  {
   "cell_type": "code",
   "execution_count": 20,
   "metadata": {},
   "outputs": [
    {
     "name": "stdout",
     "output_type": "stream",
     "text": [
      "\n",
      "======================================================================\n",
      "DUPLICATE CHECK\n",
      "======================================================================\n",
      "Duplicate sentences found: 5\n"
     ]
    }
   ],
   "source": [
    "print(\"\\n\" + \"=\"*70)\n",
    "print(\"DUPLICATE CHECK\")\n",
    "print(\"=\"*70)\n",
    "\n",
    "duplicates = df.duplicated(subset=['sentence'])\n",
    "print(f\"Duplicate sentences found: {duplicates.sum()}\")\n"
   ]
  },
  {
   "cell_type": "code",
   "execution_count": 21,
   "metadata": {},
   "outputs": [],
   "source": [
    "# DROP DUPLICATES\n",
    "df = df.drop_duplicates(subset=['sentence'], keep='first')"
   ]
  },
  {
   "cell_type": "code",
   "execution_count": 22,
   "metadata": {},
   "outputs": [
    {
     "name": "stderr",
     "output_type": "stream",
     "text": [
      "/tmp/ipython-input-3850416970.py:52: UserWarning: Glyph 128202 (\\N{BAR CHART}) missing from font(s) DejaVu Sans.\n",
      "  plt.tight_layout()\n",
      "/usr/local/lib/python3.12/dist-packages/IPython/core/pylabtools.py:151: UserWarning: Glyph 128202 (\\N{BAR CHART}) missing from font(s) DejaVu Sans.\n",
      "  fig.canvas.print_figure(bytes_io, **kw)\n"
     ]
    },
    {
     "data": {
      "image/png": "[encoded data removed]",
      "text/plain": [
       "<Figure size 1000x700 with 1 Axes>"
      ]
     },
     "metadata": {},
     "output_type": "display_data"
    },
    {
     "name": "stdout",
     "output_type": "stream",
     "text": [
      "\n",
      "📈 Sentiment Statistics:\n",
      "========================================\n",
      "Negative  :  303 samples ( 13.4%)\n",
      "Neutral   : 1386 samples ( 61.4%)\n",
      "Positive  :  570 samples ( 25.2%)\n",
      "========================================\n",
      "Total     : 2259 samples\n"
     ]
    }
   ],
   "source": [
    "import matplotlib.pyplot as plt\n",
    "import pandas as pd\n",
    "\n",
    "# Get label counts\n",
    "label_counts = df['label'].value_counts().sort_index()\n",
    "label_names = ['Negative', 'Neutral', 'Positive']\n",
    "colors = ['#ef4444', '#94a3b8', '#22c55e']  # Red, Gray, Green\n",
    "\n",
    "# Create figure with white background\n",
    "fig, ax = plt.subplots(figsize=(10, 7), facecolor='white')\n",
    "\n",
    "# Create pie chart\n",
    "wedges, texts, autotexts = ax.pie(\n",
    "    label_counts.values,\n",
    "    labels=label_names,\n",
    "    autopct='%1.1f%%',\n",
    "    startangle=90,\n",
    "    colors=colors,\n",
    "    explode=(0.05, 0.05, 0.05),  # Slight separation\n",
    "    shadow=True,\n",
    "    textprops={'fontsize': 14, 'weight': 'bold', 'color': 'white'}\n",
    ")\n",
    "\n",
    "# Style the percentage text\n",
    "for autotext in autotexts:\n",
    "    autotext.set_color('white')\n",
    "    autotext.set_fontsize(16)\n",
    "    autotext.set_weight('bold')\n",
    "\n",
    "# Style the labels\n",
    "for text in texts:\n",
    "    text.set_fontsize(16)\n",
    "    text.set_weight('bold')\n",
    "\n",
    "# Add title\n",
    "plt.title('📊 Financial News Sentiment Distribution',\n",
    "          fontsize=20,\n",
    "          weight='bold',\n",
    "          pad=20,\n",
    "          color='#1e293b')\n",
    "\n",
    "# Add sample counts in legend\n",
    "legend_labels = [f'{name}: {count} samples'\n",
    "                 for name, count in zip(label_names, label_counts.values)]\n",
    "plt.legend(legend_labels,\n",
    "          loc='upper left',\n",
    "          bbox_to_anchor=(1, 1),\n",
    "          fontsize=12,\n",
    "          frameon=True,\n",
    "          shadow=True)\n",
    "\n",
    "plt.tight_layout()\n",
    "plt.show()\n",
    "\n",
    "# Print statistics\n",
    "print(\"\\n📈 Sentiment Statistics:\")\n",
    "print(\"=\" * 40)\n",
    "for name, count in zip(label_names, label_counts.values):\n",
    "    percentage = (count / len(df)) * 100\n",
    "    print(f\"{name:10s}: {count:4d} samples ({percentage:5.1f}%)\")\n",
    "print(\"=\" * 40)\n",
    "print(f\"{'Total':10s}: {len(df):4d} samples\")"
   ]
  },
  {
   "cell_type": "code",
   "execution_count": null,
   "metadata": {},
   "outputs": [
    {
     "name": "stdout",
     "output_type": "stream",
     "text": [
      "Train: 1581, Val: 339, Test: 339\n",
      "Train distribution:\n",
      "label\n",
      "0    212\n",
      "1    970\n",
      "2    399\n",
      "Name: count, dtype: int64\n",
      "\n",
      "Class weights: tensor([2.4858, 0.5433, 1.3208])\n"
     ]
    },
    {
     "data": {
      "application/vnd.jupyter.widget-view+json": {
       "model_id": "3368632605064818b8f94012d701ba7e",
       "version_major": 2,
       "version_minor": 0
      },
      "text/plain": [
       "tokenizer_config.json:   0%|          | 0.00/48.0 [00:00<?, ?B/s]"
      ]
     },
     "metadata": {},
     "output_type": "display_data"
    },
    {
     "data": {
      "application/vnd.jupyter.widget-view+json": {
       "model_id": "8635fa61577242e8b73eb645de508490",
       "version_major": 2,
       "version_minor": 0
      },
      "text/plain": [
       "vocab.txt:   0%|          | 0.00/232k [00:00<?, ?B/s]"
      ]
     },
     "metadata": {},
     "output_type": "display_data"
    },
    {
     "data": {
      "application/vnd.jupyter.widget-view+json": {
       "model_id": "04f0dc24d4044fc5a1eaaf2d144149c5",
       "version_major": 2,
       "version_minor": 0
      },
      "text/plain": [
       "tokenizer.json:   0%|          | 0.00/466k [00:00<?, ?B/s]"
      ]
     },
     "metadata": {},
     "output_type": "display_data"
    },
    {
     "data": {
      "application/vnd.jupyter.widget-view+json": {
       "model_id": "4b7eaadafc2a438c80d713b83f8a69bc",
       "version_major": 2,
       "version_minor": 0
      },
      "text/plain": [
       "config.json:   0%|          | 0.00/483 [00:00<?, ?B/s]"
      ]
     },
     "metadata": {},
     "output_type": "display_data"
    },
    {
     "data": {
      "application/vnd.jupyter.widget-view+json": {
       "model_id": "703466ca21c744128555c8658a0aed18",
       "version_major": 2,
       "version_minor": 0
      },
      "text/plain": [
       "model.safetensors:   0%|          | 0.00/268M [00:00<?, ?B/s]"
      ]
     },
     "metadata": {},
     "output_type": "display_data"
    },
    {
     "name": "stderr",
     "output_type": "stream",
     "text": [
      "Some weights of DistilBertForSequenceClassification were not initialized from the model checkpoint at distilbert-base-uncased and are newly initialized: ['classifier.bias', 'classifier.weight', 'pre_classifier.bias', 'pre_classifier.weight']\n",
      "You should probably TRAIN this model on a down-stream task to be able to use it for predictions and inference.\n"
     ]
    },
    {
     "name": "stdout",
     "output_type": "stream",
     "text": [
      "trainable params: 740,355 || all params: 67,696,134 || trainable%: 1.0936\n"
     ]
    },
    {
     "data": {
      "application/vnd.jupyter.widget-view+json": {
       "model_id": "d51c519e08c44678905dbd1c39c9e626",
       "version_major": 2,
       "version_minor": 0
      },
      "text/plain": [
       "Downloading builder script: 0.00B [00:00, ?B/s]"
      ]
     },
     "metadata": {},
     "output_type": "display_data"
    },
    {
     "data": {
      "application/vnd.jupyter.widget-view+json": {
       "model_id": "8993a15367954f54a9eda904dd5cbfb8",
       "version_major": 2,
       "version_minor": 0
      },
      "text/plain": [
       "Downloading builder script: 0.00B [00:00, ?B/s]"
      ]
     },
     "metadata": {},
     "output_type": "display_data"
    },
    {
     "name": "stdout",
     "output_type": "stream",
     "text": [
      "\n",
      "🚀 Starting training...\n"
     ]
    },
    {
     "name": "stderr",
     "output_type": "stream",
     "text": [
      "/usr/local/lib/python3.12/dist-packages/notebook/notebookapp.py:191: SyntaxWarning: invalid escape sequence '\\/'\n",
      "  | |_| | '_ \\/ _` / _` |  _/ -_)\n"
     ]
    },
    {
     "data": {
      "application/javascript": [
       "\n",
       "        window._wandbApiKey = new Promise((resolve, reject) => {\n",
       "            function loadScript(url) {\n",
       "            return new Promise(function(resolve, reject) {\n",
       "                let newScript = document.createElement(\"script\");\n",
       "                newScript.onerror = reject;\n",
       "                newScript.onload = resolve;\n",
       "                document.body.appendChild(newScript);\n",
       "                newScript.src = url;\n",
       "            });\n",
       "            }\n",
       "            loadScript(\"https://cdn.jsdelivr.net/npm/postmate/build/postmate.min.js\").then(() => {\n",
       "            const iframe = document.createElement('iframe')\n",
       "            iframe.style.cssText = \"width:0;height:0;border:none\"\n",
       "            document.body.appendChild(iframe)\n",
       "            const handshake = new Postmate({\n",
       "                container: iframe,\n",
       "                url: 'https://wandb.ai/authorize'\n",
       "            });\n",
       "            const timeout = setTimeout(() => reject(\"Couldn't auto authenticate\"), 5000)\n",
       "            handshake.then(function(child) {\n",
       "                child.on('authorize', data => {\n",
       "                    clearTimeout(timeout)\n",
       "                    resolve(data)\n",
       "                });\n",
       "            });\n",
       "            })\n",
       "        });\n",
       "    "
      ],
      "text/plain": [
       "<IPython.core.display.Javascript object>"
      ]
     },
     "metadata": {},
     "output_type": "display_data"
    },
    {
     "name": "stderr",
     "output_type": "stream",
     "text": [
      "\u001b[34m\u001b[1mwandb\u001b[0m: Logging into wandb.ai. (Learn how to deploy a W&B server locally: https://wandb.me/wandb-server)\n",
      "\u001b[34m\u001b[1mwandb\u001b[0m: You can find your API key in your browser here: https://wandb.ai/authorize?ref=models\n",
      "wandb: Paste an API key from your profile and hit enter:"
     ]
    },
    {
     "name": "stdout",
     "output_type": "stream",
     "text": [
      " ··········\n"
     ]
    },
    {
     "name": "stderr",
     "output_type": "stream",
     "text": [
      "\u001b[34m\u001b[1mwandb\u001b[0m: \u001b[33mWARNING\u001b[0m If you're specifying your api key in code, ensure this code is not shared publicly.\n",
      "\u001b[34m\u001b[1mwandb\u001b[0m: \u001b[33mWARNING\u001b[0m Consider setting the WANDB_API_KEY environment variable, or running `wandb login` from the command line.\n",
      "\u001b[34m\u001b[1mwandb\u001b[0m: No netrc file found, creating one.\n",
      "\u001b[34m\u001b[1mwandb\u001b[0m: Appending key for api.wandb.ai to your netrc file: /root/.netrc\n",
      "\u001b[34m\u001b[1mwandb\u001b[0m: Currently logged in as: \u001b[33mtattoumetten\u001b[0m (\u001b[33mtattoumetten-esprit\u001b[0m) to \u001b[32mhttps://api.wandb.ai\u001b[0m. Use \u001b[1m`wandb login --relogin`\u001b[0m to force relogin\n"
     ]
    },
    {
     "data": {
      "text/html": [],
      "text/plain": [
       "<IPython.core.display.HTML object>"
      ]
     },
     "metadata": {},
     "output_type": "display_data"
    },
    {
     "data": {
      "text/html": [
       "Tracking run with wandb version 0.22.2"
      ],
      "text/plain": [
       "<IPython.core.display.HTML object>"
      ]
     },
     "metadata": {},
     "output_type": "display_data"
    },
    {
     "data": {
      "text/html": [
       "Run data is saved locally in <code>/content/wandb/run-20251024_221802-pekkndd4</code>"
      ],
      "text/plain": [
       "<IPython.core.display.HTML object>"
      ]
     },
     "metadata": {},
     "output_type": "display_data"
    },
    {
     "data": {
      "text/html": [
       "Syncing run <strong><a href='https://wandb.ai/tattoumetten-esprit/huggingface/runs/pekkndd4' target=\"_blank\">easy-armadillo-7</a></strong> to <a href='https://wandb.ai/tattoumetten-esprit/huggingface' target=\"_blank\">Weights & Biases</a> (<a href='https://wandb.me/developer-guide' target=\"_blank\">docs</a>)<br>"
      ],
      "text/plain": [
       "<IPython.core.display.HTML object>"
      ]
     },
     "metadata": {},
     "output_type": "display_data"
    },
    {
     "data": {
      "text/html": [
       " View project at <a href='https://wandb.ai/tattoumetten-esprit/huggingface' target=\"_blank\">https://wandb.ai/tattoumetten-esprit/huggingface</a>"
      ],
      "text/plain": [
       "<IPython.core.display.HTML object>"
      ]
     },
     "metadata": {},
     "output_type": "display_data"
    },
    {
     "data": {
      "text/html": [
       " View run at <a href='https://wandb.ai/tattoumetten-esprit/huggingface/runs/pekkndd4' target=\"_blank\">https://wandb.ai/tattoumetten-esprit/huggingface/runs/pekkndd4</a>"
      ],
      "text/plain": [
       "<IPython.core.display.HTML object>"
      ]
     },
     "metadata": {},
     "output_type": "display_data"
    },
    {
     "data": {
      "text/html": [
       "\n",
       "    <div>\n",
       "      \n",
       "      <progress value='297' max='297' style='width:300px; height:20px; vertical-align: middle;'></progress>\n",
       "      [297/297 00:34, Epoch 3/3]\n",
       "    </div>\n",
       "    <table border=\"1\" class=\"dataframe\">\n",
       "  <thead>\n",
       " <tr style=\"text-align: left;\">\n",
       "      <th>Epoch</th>\n",
       "      <th>Training Loss</th>\n",
       "      <th>Validation Loss</th>\n",
       "      <th>Accuracy</th>\n",
       "      <th>F1 Macro</th>\n",
       "    </tr>\n",
       "  </thead>\n",
       "  <tbody>\n",
       "    <tr>\n",
       "      <td>1</td>\n",
       "      <td>1.068400</td>\n",
       "      <td>0.613710</td>\n",
       "      <td>0.823009</td>\n",
       "      <td>0.750536</td>\n",
       "    </tr>\n",
       "    <tr>\n",
       "      <td>2</td>\n",
       "      <td>0.387000</td>\n",
       "      <td>0.264636</td>\n",
       "      <td>0.917404</td>\n",
       "      <td>0.897105</td>\n",
       "    </tr>\n",
       "    <tr>\n",
       "      <td>3</td>\n",
       "      <td>0.221200</td>\n",
       "      <td>0.225208</td>\n",
       "      <td>0.941003</td>\n",
       "      <td>0.922006</td>\n",
       "    </tr>\n",
       "  </tbody>\n",
       "</table><p>"
      ],
      "text/plain": [
       "<IPython.core.display.HTML object>"
      ]
     },
     "metadata": {},
     "output_type": "display_data"
    },
    {
     "name": "stdout",
     "output_type": "stream",
     "text": [
      "\n",
      "📊 TRAIN SET EVALUATION\n"
     ]
    },
    {
     "data": {
      "text/html": [],
      "text/plain": [
       "<IPython.core.display.HTML object>"
      ]
     },
     "metadata": {},
     "output_type": "display_data"
    },
    {
     "name": "stdout",
     "output_type": "stream",
     "text": [
      "Train Results: {'eval_loss': 0.16786088049411774, 'eval_accuracy': 0.9468690702087287, 'eval_f1_macro': 0.9280960913305728, 'eval_runtime': 4.9004, 'eval_samples_per_second': 322.626, 'eval_steps_per_second': 10.203, 'epoch': 3.0}\n",
      "\n",
      "Train Classification Report:\n",
      "              precision    recall  f1-score   support\n",
      "\n",
      "    negative       0.86      0.95      0.90       212\n",
      "     neutral       0.98      0.96      0.97       970\n",
      "    positive       0.91      0.90      0.91       399\n",
      "\n",
      "    accuracy                           0.95      1581\n",
      "   macro avg       0.92      0.94      0.93      1581\n",
      "weighted avg       0.95      0.95      0.95      1581\n",
      "\n",
      "\n",
      "============================================================\n",
      "📊 VALIDATION SET EVALUATION\n"
     ]
    },
    {
     "data": {
      "text/html": [],
      "text/plain": [
       "<IPython.core.display.HTML object>"
      ]
     },
     "metadata": {},
     "output_type": "display_data"
    },
    {
     "name": "stdout",
     "output_type": "stream",
     "text": [
      "Val Results: {'eval_loss': 0.22520789504051208, 'eval_accuracy': 0.9410029498525073, 'eval_f1_macro': 0.9220060507685391, 'eval_runtime': 0.6458, 'eval_samples_per_second': 524.928, 'eval_steps_per_second': 17.033, 'epoch': 3.0}\n",
      "\n",
      "Val Classification Report:\n",
      "              precision    recall  f1-score   support\n",
      "\n",
      "    negative       0.88      0.93      0.90        45\n",
      "     neutral       0.97      0.97      0.97       208\n",
      "    positive       0.90      0.88      0.89        86\n",
      "\n",
      "    accuracy                           0.94       339\n",
      "   macro avg       0.92      0.93      0.92       339\n",
      "weighted avg       0.94      0.94      0.94       339\n",
      "\n",
      "\n",
      "============================================================\n",
      "📊 TEST SET EVALUATION\n"
     ]
    },
    {
     "data": {
      "text/html": [],
      "text/plain": [
       "<IPython.core.display.HTML object>"
      ]
     },
     "metadata": {},
     "output_type": "display_data"
    },
    {
     "name": "stdout",
     "output_type": "stream",
     "text": [
      "Test Results: {'eval_loss': 0.16845360398292542, 'eval_accuracy': 0.943952802359882, 'eval_f1_macro': 0.9308152479144303, 'eval_runtime': 0.6541, 'eval_samples_per_second': 518.284, 'eval_steps_per_second': 16.817, 'epoch': 3.0}\n",
      "\n",
      "Test Classification Report:\n",
      "              precision    recall  f1-score   support\n",
      "\n",
      "    negative       0.88      0.98      0.93        46\n",
      "     neutral       0.99      0.95      0.97       208\n",
      "    positive       0.88      0.92      0.90        85\n",
      "\n",
      "    accuracy                           0.94       339\n",
      "   macro avg       0.92      0.95      0.93       339\n",
      "weighted avg       0.95      0.94      0.94       339\n",
      "\n",
      "\n",
      "🎯 Test Confusion Matrix:\n",
      "[[ 45   0   1]\n",
      " [  1 197  10]\n",
      " [  5   2  78]]\n",
      "\n",
      "✅ Model saved to './sentiment_lora_model'\n",
      "\n",
      "============================================================\n",
      "💰 TESTING ON FINANCIAL EXAMPLES\n",
      "============================================================\n",
      "\n",
      "📝 Text: The company's quarterly earnings exceeded expectations, driving stock price up 15%\n",
      "   Sentiment: POSITIVE (confidence: 80.01%)\n",
      "   Probs: [Neg: 19.69%, Neu: 0.30%, Pos: 80.01%]\n",
      "\n",
      "📝 Text: Revenue declined by 8% year-over-year amid increasing competition\n",
      "   Sentiment: NEGATIVE (confidence: 99.13%)\n",
      "   Probs: [Neg: 99.13%, Neu: 0.08%, Pos: 0.79%]\n",
      "\n",
      "📝 Text: The Federal Reserve maintained interest rates at current levels\n",
      "   Sentiment: NEUTRAL (confidence: 99.44%)\n",
      "   Probs: [Neg: 0.19%, Neu: 99.44%, Pos: 0.37%]\n",
      "\n",
      "📝 Text: Bankruptcy filing announced after failed debt restructuring negotiations\n",
      "   Sentiment: NEUTRAL (confidence: 66.85%)\n",
      "   Probs: [Neg: 31.58%, Neu: 66.85%, Pos: 1.56%]\n",
      "\n",
      "📝 Text: Merger talks ongoing, no definitive agreement reached yet\n",
      "   Sentiment: NEUTRAL (confidence: 99.19%)\n",
      "   Probs: [Neg: 0.64%, Neu: 99.19%, Pos: 0.17%]\n",
      "\n",
      "📝 Text: Record-breaking profits reported in Q4, best performance in company history\n",
      "   Sentiment: POSITIVE (confidence: 94.93%)\n",
      "   Probs: [Neg: 1.30%, Neu: 3.78%, Pos: 94.93%]\n",
      "\n",
      "📝 Text: Market volatility continues as inflation concerns persist\n",
      "   Sentiment: NEGATIVE (confidence: 76.21%)\n",
      "   Probs: [Neg: 76.21%, Neu: 8.86%, Pos: 14.93%]\n",
      "\n",
      "📝 Text: Dividend payout increased by 20%, rewarding long-term shareholders\n",
      "   Sentiment: POSITIVE (confidence: 99.02%)\n",
      "   Probs: [Neg: 0.76%, Neu: 0.22%, Pos: 99.02%]\n",
      "\n",
      "📝 Text: Layoffs expected as company struggles with mounting operational costs\n",
      "   Sentiment: NEGATIVE (confidence: 94.20%)\n",
      "   Probs: [Neg: 94.20%, Neu: 4.65%, Pos: 1.14%]\n",
      "\n",
      "📝 Text: Analysts maintain neutral rating pending further financial disclosures\n",
      "   Sentiment: NEUTRAL (confidence: 99.71%)\n",
      "   Probs: [Neg: 0.05%, Neu: 99.71%, Pos: 0.24%]\n"
     ]
    }
   ],
   "source": [
    "\n",
    "# Label mapping\n",
    "label2id = {\"negative\": 0, \"neutral\": 1, \"positive\": 2}\n",
    "id2label = {0: \"negative\", 1: \"neutral\", 2: \"positive\"}\n",
    "\n",
    "# Load your dataframe (assuming it's already loaded as 'df')\n",
    "# df = pd.read_csv('your_data.csv')  # uncomment if needed\n",
    "\n",
    "# Map labels to ids\n",
    "df['label'] = df['label'].map(label2id)\n",
    "\n",
    "# Split: 70% train, 15% val, 15% test\n",
    "train_df, temp_df = train_test_split(df, test_size=0.3, random_state=42, stratify=df['label'])\n",
    "val_df, test_df = train_test_split(temp_df, test_size=0.5, random_state=42, stratify=temp_df['label'])\n",
    "\n",
    "print(f\"Train: {len(train_df)}, Val: {len(val_df)}, Test: {len(test_df)}\")\n",
    "print(f\"Train distribution:\\n{train_df['label'].value_counts().sort_index()}\")\n",
    "\n",
    "# Calculate class weights\n",
    "class_counts = train_df['label'].value_counts().sort_index().values\n",
    "class_weights = len(train_df) / (len(class_counts) * class_counts)\n",
    "class_weights = torch.FloatTensor(class_weights)\n",
    "print(f\"\\nClass weights: {class_weights}\")\n",
    "\n",
    "# Custom Dataset\n",
    "class SentimentDataset(Dataset):\n",
    "    def __init__(self, texts, labels, tokenizer, max_length=128):\n",
    "        self.encodings = tokenizer(texts, truncation=True, padding=True, max_length=max_length)\n",
    "        self.labels = labels\n",
    "\n",
    "    def __getitem__(self, idx):\n",
    "        item = {key: torch.tensor(val[idx]) for key, val in self.encodings.items()}\n",
    "        item['labels'] = torch.tensor(self.labels[idx])\n",
    "        return item\n",
    "\n",
    "    def __len__(self):\n",
    "        return len(self.labels)\n",
    "\n",
    "# Load tokenizer and model\n",
    "tokenizer = DistilBertTokenizer.from_pretrained('distilbert-base-uncased')\n",
    "model = DistilBertForSequenceClassification.from_pretrained(\n",
    "    'distilbert-base-uncased',\n",
    "    num_labels=3,\n",
    "    id2label=id2label,\n",
    "    label2id=label2id\n",
    ")\n",
    "\n",
    "# LoRA configuration\n",
    "lora_config = LoraConfig(\n",
    "    task_type=TaskType.SEQ_CLS,\n",
    "    r=8,  # rank\n",
    "    lora_alpha=16,\n",
    "    lora_dropout=0.1,\n",
    "    target_modules=[\"q_lin\", \"v_lin\"]  # DistilBERT attention layers\n",
    ")\n",
    "\n",
    "model = get_peft_model(model, lora_config)\n",
    "model.print_trainable_parameters()\n",
    "\n",
    "# Create datasets\n",
    "train_dataset = SentimentDataset(\n",
    "    train_df['sentence'].tolist(),\n",
    "    train_df['label'].tolist(),\n",
    "    tokenizer\n",
    ")\n",
    "val_dataset = SentimentDataset(\n",
    "    val_df['sentence'].tolist(),\n",
    "    val_df['label'].tolist(),\n",
    "    tokenizer\n",
    ")\n",
    "test_dataset = SentimentDataset(\n",
    "    test_df['sentence'].tolist(),\n",
    "    test_df['label'].tolist(),\n",
    "    tokenizer\n",
    ")\n",
    "\n",
    "# Custom Trainer with class weights\n",
    "class WeightedTrainer(Trainer):\n",
    "    def compute_loss(self, model, inputs, return_outputs=False, num_items_in_batch=None):\n",
    "        labels = inputs.pop(\"labels\")\n",
    "        outputs = model(**inputs)\n",
    "        logits = outputs.logits\n",
    "\n",
    "        loss_fct = torch.nn.CrossEntropyLoss(weight=class_weights.to(logits.device))\n",
    "        loss = loss_fct(logits, labels)\n",
    "\n",
    "        return (loss, outputs) if return_outputs else loss\n",
    "\n",
    "# Metrics\n",
    "accuracy_metric = evaluate.load(\"accuracy\")\n",
    "f1_metric = evaluate.load(\"f1\")\n",
    "\n",
    "def compute_metrics(eval_pred):\n",
    "    logits, labels = eval_pred\n",
    "    predictions = np.argmax(logits, axis=-1)\n",
    "\n",
    "    acc = accuracy_metric.compute(predictions=predictions, references=labels)\n",
    "    f1 = f1_metric.compute(predictions=predictions, references=labels, average='macro')\n",
    "\n",
    "    return {\n",
    "        'accuracy': acc['accuracy'],\n",
    "        'f1_macro': f1['f1']\n",
    "    }\n",
    "\n",
    "# Training arguments\n",
    "training_args = TrainingArguments(\n",
    "    output_dir='./results',\n",
    "    num_train_epochs=3,\n",
    "    per_device_train_batch_size=16,\n",
    "    per_device_eval_batch_size=32,\n",
    "    warmup_steps=100,\n",
    "    learning_rate=2e-4,\n",
    "    weight_decay=0.01,\n",
    "    logging_dir='./logs',\n",
    "    logging_steps=50,\n",
    "    eval_strategy=\"epoch\",\n",
    "    save_strategy=\"epoch\",\n",
    "    load_best_model_at_end=True,\n",
    "    metric_for_best_model=\"f1_macro\",\n",
    ")\n",
    "\n",
    "# Trainer\n",
    "trainer = WeightedTrainer(\n",
    "    model=model,\n",
    "    args=training_args,\n",
    "    train_dataset=train_dataset,\n",
    "    eval_dataset=val_dataset,\n",
    "    compute_metrics=compute_metrics,\n",
    ")\n",
    "\n",
    "# Train\n",
    "print(\"\\n🚀 Starting training...\")\n",
    "trainer.train()\n",
    "\n",
    "# Evaluate on all sets\n",
    "print(\"\\n📊 TRAIN SET EVALUATION\")\n",
    "train_results = trainer.evaluate(train_dataset)\n",
    "print(f\"Train Results: {train_results}\")\n",
    "train_preds = trainer.predict(train_dataset)\n",
    "train_predictions = np.argmax(train_preds.predictions, axis=-1)\n",
    "print(\"\\nTrain Classification Report:\")\n",
    "print(classification_report(\n",
    "    train_df['label'].tolist(),\n",
    "    train_predictions,\n",
    "    target_names=['negative', 'neutral', 'positive']\n",
    "))\n",
    "\n",
    "print(\"\\n\" + \"=\"*60)\n",
    "print(\"📊 VALIDATION SET EVALUATION\")\n",
    "val_results = trainer.evaluate(val_dataset)\n",
    "print(f\"Val Results: {val_results}\")\n",
    "val_preds = trainer.predict(val_dataset)\n",
    "val_predictions = np.argmax(val_preds.predictions, axis=-1)\n",
    "print(\"\\nVal Classification Report:\")\n",
    "print(classification_report(\n",
    "    val_df['label'].tolist(),\n",
    "    val_predictions,\n",
    "    target_names=['negative', 'neutral', 'positive']\n",
    "))\n",
    "\n",
    "print(\"\\n\" + \"=\"*60)\n",
    "print(\" TEST SET EVALUATION\")\n",
    "test_results = trainer.evaluate(test_dataset)\n",
    "print(f\"Test Results: {test_results}\")\n",
    "test_preds = trainer.predict(test_dataset)\n",
    "test_predictions = np.argmax(test_preds.predictions, axis=-1)\n",
    "print(\"\\nTest Classification Report:\")\n",
    "print(classification_report(\n",
    "    test_df['label'].tolist(),\n",
    "    test_predictions,\n",
    "    target_names=['negative', 'neutral', 'positive']\n",
    "))\n",
    "\n",
    "print(\"\\n Test Confusion Matrix:\")\n",
    "print(confusion_matrix(test_df['label'].tolist(), test_predictions))\n",
    "\n",
    "# Save model\n",
    "model.save_pretrained('./sentiment_lora_model')\n",
    "tokenizer.save_pretrained('./sentiment_lora_model')\n",
    "print(\"\\n Model saved to './sentiment_lora_model'\")\n",
    "\n",
    "# Test on financial examples\n",
    "print(\"\\n\" + \"=\"*60)\n",
    "print(\"💰 TESTING ON FINANCIAL EXAMPLES\")\n",
    "print(\"=\"*60)\n",
    "\n",
    "financial_examples = [\n",
    "    \"The company's quarterly earnings exceeded expectations, driving stock price up 15%\",\n",
    "    \"Revenue declined by 8% year-over-year amid increasing competition\",\n",
    "    \"The Federal Reserve maintained interest rates at current levels\",\n",
    "    \"Bankruptcy filing announced after failed debt restructuring negotiations\",\n",
    "    \"Merger talks ongoing, no definitive agreement reached yet\",\n",
    "    \"Record-breaking profits reported in Q4, best performance in company history\",\n",
    "    \"Market volatility continues as inflation concerns persist\",\n",
    "    \"Dividend payout increased by 20%, rewarding long-term shareholders\",\n",
    "    \"Layoffs expected as company struggles with mounting operational costs\",\n",
    "    \"Analysts maintain neutral rating pending further financial disclosures\"\n",
    "]\n",
    "\n",
    "model.eval()\n",
    "for example in financial_examples:\n",
    "    inputs = tokenizer(example, return_tensors=\"pt\", truncation=True, padding=True, max_length=128)\n",
    "    inputs = {k: v.to(model.device) for k, v in inputs.items()}\n",
    "\n",
    "    with torch.no_grad():\n",
    "        outputs = model(**inputs)\n",
    "        logits = outputs.logits\n",
    "        probs = torch.nn.functional.softmax(logits, dim=-1)\n",
    "        prediction = torch.argmax(logits, dim=-1).item()\n",
    "        confidence = probs[0][prediction].item()\n",
    "\n",
    "    sentiment = id2label[prediction]\n",
    "    print(f\"\\n Text: {example}\")\n",
    "    print(f\"   Sentiment: {sentiment.upper()} (confidence: {confidence:.2%})\")\n",
    "    print(f\"   Probs: [Neg: {probs[0][0]:.2%}, Neu: {probs[0][1]:.2%}, Pos: {probs[0][2]:.2%}]\")"
   ]
  },
  {
   "cell_type": "code",
   "execution_count": null,
   "metadata": {},
   "outputs": [],
   "source": []
  }
 ],
 "metadata": {
  "language_info": {
   "name": "python"
  }
 },
 "nbformat": 4,
 "nbformat_minor": 0
}
